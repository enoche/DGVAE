{
 "cells": [
  {
   "cell_type": "markdown",
   "source": [
    "# 将image转化为text"
   ],
   "metadata": {
    "collapsed": false
   }
  },
  {
   "cell_type": "code",
   "execution_count": 1,
   "metadata": {
    "collapsed": true
   },
   "outputs": [
    {
     "data": {
      "text/plain": "'/home/xin/XMMRec/Baby14'"
     },
     "execution_count": 1,
     "metadata": {},
     "output_type": "execute_result"
    }
   ],
   "source": [
    "import os\n",
    "os.chdir('/home/xin/XMMRec/Baby14')\n",
    "os.getcwd()"
   ]
  },
  {
   "cell_type": "markdown",
   "source": [
    "## Load text set"
   ],
   "metadata": {
    "collapsed": false
   }
  },
  {
   "cell_type": "code",
   "execution_count": 3,
   "outputs": [
    {
     "data": {
      "text/plain": "      itemID        asin  categories  \\\n0          0  097293751X  [['Baby']]   \n1          1  9729375011  [['Baby']]   \n2          2  B00000IZQI  [['Baby']]   \n3          3  B00000J3LL  [['Baby']]   \n4          4  B00002JV9S  [['Baby']]   \n...      ...         ...         ...   \n7045    7045  B00JEV5UI8  [['Baby']]   \n7046    7046  B00JLHWDO4  [['Baby']]   \n7047    7047  B00JLI73ZM  [['Baby']]   \n7048    7048  B00JRYRYS6  [['Baby']]   \n7049    7049  B00L13XFIE  [['Baby']]   \n\n                                            description  \\\n0     Easily keep track of your baby's or child's da...   \n1     This is version of the award-winningBaby Track...   \n2     This colorful car collection develops motor sk...   \n3     This darling cloth book offers hands-on experi...   \n4     In a relatively new concept in teething, The F...   \n...                                                 ...   \n7045                                                NaN   \n7046  Baby's weight is supported by buttocks and upp...   \n7047  Parents dont vibrate like bouncy seats or swin...   \n7048                                                      \n7049  The stay dry insert consists of 4 layers of su...   \n\n                                                  title   price  \\\n0     Baby Tracker&reg; - Daily Childcare Journal, S...   17.00   \n1     Newborn Baby Tracker&reg; - Round the Clock Ch...   15.95   \n2                  Fisher Price Nesting Action Vehicles    8.37   \n3      My Quiet Book, Fabric Activity Book for Children   27.00   \n4              The First Years Massaging Action Teether    8.84   \n...                                                 ...     ...   \n7045  VTech Communications Safe and Sound Digital Au...   19.99   \n7046  Merry Muscles Ergonomic Jumper Exerciser Baby ...   89.95   \n7047           4Moms mamaRoo Plush Infant Seat - Silver  249.00   \n7048        Graco Argos 65 3-in-1 Harness Booster, Link  199.99   \n7049       Best Bottom Stay Dry Inserts, Large, 3 Count   12.55   \n\n                                                  imUrl            brand  \\\n0     http://ecx.images-amazon.com/images/I/41Bb6wf%...         Time Too   \n1     http://ecx.images-amazon.com/images/I/51r3BLpL...              NaN   \n2     http://ecx.images-amazon.com/images/I/51E83QCC...              NaN   \n3     http://ecx.images-amazon.com/images/I/51GoNXhB...              NaN   \n4     http://ecx.images-amazon.com/images/I/41gVp98n...  The First Years   \n...                                                 ...              ...   \n7045  http://ecx.images-amazon.com/images/I/41KvPcQ-...              NaN   \n7046  http://ecx.images-amazon.com/images/I/41Z5Is6e...              NaN   \n7047  http://ecx.images-amazon.com/images/I/41-lfZws...            4moms   \n7048  http://ecx.images-amazon.com/images/I/41vnR97a...            Graco   \n7049  http://ecx.images-amazon.com/images/I/41gFQtfe...       bestbottom   \n\n                                                related salesRank  \n0     {'also_bought': ['9729375011', 'B004FN1AE8', '...       NaN  \n1     {'also_bought': ['B000V5KPZ4', 'B001F8TLLU', '...       NaN  \n2     {'also_bought': ['B0042D69W4', 'B00428LIZM', '...       NaN  \n3     {'also_bought': ['B00000J3LC', 'B0043G4JOA', '...       NaN  \n4     {'also_bought': ['B0013FCBJO', 'B0019QCGVK', '...       NaN  \n...                                                 ...       ...  \n7045  {'also_bought': ['B007INU6EC', 'B00BRHSD90', '...       NaN  \n7046  {'also_bought': ['B003I1XA0U', 'B008BGNT3A', '...       NaN  \n7047  {'also_bought': ['B007ZXX03Y', 'B00BXWTVJ0', '...       NaN  \n7048  {'also_bought': ['B00H8MSKAU', 'B00HG699OO', '...       NaN  \n7049  {'also_bought': ['B00A3JXVZY', 'B007NIFFHA', '...       NaN  \n\n[7050 rows x 10 columns]",
      "text/html": "<div>\n<style scoped>\n    .dataframe tbody tr th:only-of-type {\n        vertical-align: middle;\n    }\n\n    .dataframe tbody tr th {\n        vertical-align: top;\n    }\n\n    .dataframe thead th {\n        text-align: right;\n    }\n</style>\n<table border=\"1\" class=\"dataframe\">\n  <thead>\n    <tr style=\"text-align: right;\">\n      <th></th>\n      <th>itemID</th>\n      <th>asin</th>\n      <th>categories</th>\n      <th>description</th>\n      <th>title</th>\n      <th>price</th>\n      <th>imUrl</th>\n      <th>brand</th>\n      <th>related</th>\n      <th>salesRank</th>\n    </tr>\n  </thead>\n  <tbody>\n    <tr>\n      <th>0</th>\n      <td>0</td>\n      <td>097293751X</td>\n      <td>[['Baby']]</td>\n      <td>Easily keep track of your baby's or child's da...</td>\n      <td>Baby Tracker&amp;reg; - Daily Childcare Journal, S...</td>\n      <td>17.00</td>\n      <td>http://ecx.images-amazon.com/images/I/41Bb6wf%...</td>\n      <td>Time Too</td>\n      <td>{'also_bought': ['9729375011', 'B004FN1AE8', '...</td>\n      <td>NaN</td>\n    </tr>\n    <tr>\n      <th>1</th>\n      <td>1</td>\n      <td>9729375011</td>\n      <td>[['Baby']]</td>\n      <td>This is version of the award-winningBaby Track...</td>\n      <td>Newborn Baby Tracker&amp;reg; - Round the Clock Ch...</td>\n      <td>15.95</td>\n      <td>http://ecx.images-amazon.com/images/I/51r3BLpL...</td>\n      <td>NaN</td>\n      <td>{'also_bought': ['B000V5KPZ4', 'B001F8TLLU', '...</td>\n      <td>NaN</td>\n    </tr>\n    <tr>\n      <th>2</th>\n      <td>2</td>\n      <td>B00000IZQI</td>\n      <td>[['Baby']]</td>\n      <td>This colorful car collection develops motor sk...</td>\n      <td>Fisher Price Nesting Action Vehicles</td>\n      <td>8.37</td>\n      <td>http://ecx.images-amazon.com/images/I/51E83QCC...</td>\n      <td>NaN</td>\n      <td>{'also_bought': ['B0042D69W4', 'B00428LIZM', '...</td>\n      <td>NaN</td>\n    </tr>\n    <tr>\n      <th>3</th>\n      <td>3</td>\n      <td>B00000J3LL</td>\n      <td>[['Baby']]</td>\n      <td>This darling cloth book offers hands-on experi...</td>\n      <td>My Quiet Book, Fabric Activity Book for Children</td>\n      <td>27.00</td>\n      <td>http://ecx.images-amazon.com/images/I/51GoNXhB...</td>\n      <td>NaN</td>\n      <td>{'also_bought': ['B00000J3LC', 'B0043G4JOA', '...</td>\n      <td>NaN</td>\n    </tr>\n    <tr>\n      <th>4</th>\n      <td>4</td>\n      <td>B00002JV9S</td>\n      <td>[['Baby']]</td>\n      <td>In a relatively new concept in teething, The F...</td>\n      <td>The First Years Massaging Action Teether</td>\n      <td>8.84</td>\n      <td>http://ecx.images-amazon.com/images/I/41gVp98n...</td>\n      <td>The First Years</td>\n      <td>{'also_bought': ['B0013FCBJO', 'B0019QCGVK', '...</td>\n      <td>NaN</td>\n    </tr>\n    <tr>\n      <th>...</th>\n      <td>...</td>\n      <td>...</td>\n      <td>...</td>\n      <td>...</td>\n      <td>...</td>\n      <td>...</td>\n      <td>...</td>\n      <td>...</td>\n      <td>...</td>\n      <td>...</td>\n    </tr>\n    <tr>\n      <th>7045</th>\n      <td>7045</td>\n      <td>B00JEV5UI8</td>\n      <td>[['Baby']]</td>\n      <td>NaN</td>\n      <td>VTech Communications Safe and Sound Digital Au...</td>\n      <td>19.99</td>\n      <td>http://ecx.images-amazon.com/images/I/41KvPcQ-...</td>\n      <td>NaN</td>\n      <td>{'also_bought': ['B007INU6EC', 'B00BRHSD90', '...</td>\n      <td>NaN</td>\n    </tr>\n    <tr>\n      <th>7046</th>\n      <td>7046</td>\n      <td>B00JLHWDO4</td>\n      <td>[['Baby']]</td>\n      <td>Baby's weight is supported by buttocks and upp...</td>\n      <td>Merry Muscles Ergonomic Jumper Exerciser Baby ...</td>\n      <td>89.95</td>\n      <td>http://ecx.images-amazon.com/images/I/41Z5Is6e...</td>\n      <td>NaN</td>\n      <td>{'also_bought': ['B003I1XA0U', 'B008BGNT3A', '...</td>\n      <td>NaN</td>\n    </tr>\n    <tr>\n      <th>7047</th>\n      <td>7047</td>\n      <td>B00JLI73ZM</td>\n      <td>[['Baby']]</td>\n      <td>Parents dont vibrate like bouncy seats or swin...</td>\n      <td>4Moms mamaRoo Plush Infant Seat - Silver</td>\n      <td>249.00</td>\n      <td>http://ecx.images-amazon.com/images/I/41-lfZws...</td>\n      <td>4moms</td>\n      <td>{'also_bought': ['B007ZXX03Y', 'B00BXWTVJ0', '...</td>\n      <td>NaN</td>\n    </tr>\n    <tr>\n      <th>7048</th>\n      <td>7048</td>\n      <td>B00JRYRYS6</td>\n      <td>[['Baby']]</td>\n      <td></td>\n      <td>Graco Argos 65 3-in-1 Harness Booster, Link</td>\n      <td>199.99</td>\n      <td>http://ecx.images-amazon.com/images/I/41vnR97a...</td>\n      <td>Graco</td>\n      <td>{'also_bought': ['B00H8MSKAU', 'B00HG699OO', '...</td>\n      <td>NaN</td>\n    </tr>\n    <tr>\n      <th>7049</th>\n      <td>7049</td>\n      <td>B00L13XFIE</td>\n      <td>[['Baby']]</td>\n      <td>The stay dry insert consists of 4 layers of su...</td>\n      <td>Best Bottom Stay Dry Inserts, Large, 3 Count</td>\n      <td>12.55</td>\n      <td>http://ecx.images-amazon.com/images/I/41gFQtfe...</td>\n      <td>bestbottom</td>\n      <td>{'also_bought': ['B00A3JXVZY', 'B007NIFFHA', '...</td>\n      <td>NaN</td>\n    </tr>\n  </tbody>\n</table>\n<p>7050 rows × 10 columns</p>\n</div>"
     },
     "execution_count": 3,
     "metadata": {},
     "output_type": "execute_result"
    }
   ],
   "source": [
    "import pandas as pd\n",
    "\n",
    "dataset = 'baby14'\n",
    "txt_file = f'meta-{dataset}.csv'\n",
    "df = pd.read_csv(txt_file)\n",
    "i_id, desc_str,title,brand, category = 'itemID', 'description','title','brand','categories'\n",
    "df.sort_values(by=[i_id], inplace=True)\n",
    "df"
   ],
   "metadata": {
    "collapsed": false,
    "pycharm": {
     "name": "#%%\n"
    }
   }
  },
  {
   "cell_type": "code",
   "execution_count": 4,
   "outputs": [
    {
     "name": "stdout",
     "output_type": "stream",
     "text": [
      "(13, 10)\n",
      "(570, 10)\n",
      "(0, 10)\n",
      "(0, 10)\n",
      "(0, 10)\n"
     ]
    }
   ],
   "source": [
    "# test set\n",
    "# sentences: title + brand + category + description | All have title + description\n",
    "\n",
    "title_na_df = df[df['title'].isnull()]\n",
    "print(title_na_df.shape)\n",
    "\n",
    "desc_na_df = df[df['description'].isnull()]\n",
    "print(desc_na_df.shape)\n",
    "\n",
    "na_df = df[df['title'].isnull() & df['description'].isnull()]\n",
    "print(na_df.shape)\n",
    "\n",
    "na3_df = df[df['description'].isnull() & df['title'].isnull() & df['brand'].isnull()]\n",
    "print(na3_df.shape)\n",
    "\n",
    "na4_df = df[df['description'].isnull() & df['title'].isnull() & df['brand'].isnull() & df['categories'].isnull()]\n",
    "print(na4_df.shape)"
   ],
   "metadata": {
    "collapsed": false,
    "pycharm": {
     "name": "#%%\n"
    }
   }
  },
  {
   "cell_type": "code",
   "execution_count": 20,
   "outputs": [
    {
     "data": {
      "text/plain": "'Baby Tracker&reg; - Daily Childcare Journal, Schedule Log Time Too Baby Newborn Baby Tracker&reg; - '"
     },
     "execution_count": 20,
     "metadata": {},
     "output_type": "execute_result"
    }
   ],
   "source": [
    "df['title'] = df['title'].fillna(\" \")\n",
    "df['description'] = df['description'].fillna(\" \")\n",
    "#df['ingredients'] = df['ingredients'].map(lambda x: x.replace('^',','))\n",
    "df['brand'] = df['brand'].fillna(\" \")\n",
    "df['categories'] = df['categories'].fillna(\" \")\n",
    "sentences = ''\n",
    "\n",
    "for i, row in df.iterrows():\n",
    "    sen = row['title'] + ' ' + row['brand'] + ' '\n",
    "    cates = eval(row['categories'])\n",
    "    if isinstance(cates, list):\n",
    "        for c in cates[0]:\n",
    "            sen = sen + c + ' '\n",
    "    #sen += row[desc_str]\n",
    "    sen = sen.replace('\\n', ' ')\n",
    "\n",
    "    sentences += sen\n",
    "\n",
    "sentences[:100]"
   ],
   "metadata": {
    "collapsed": false,
    "pycharm": {
     "name": "#%%\n"
    }
   }
  },
  {
   "cell_type": "code",
   "execution_count": 21,
   "outputs": [
    {
     "data": {
      "text/plain": "7271"
     },
     "execution_count": 21,
     "metadata": {},
     "output_type": "execute_result"
    }
   ],
   "source": [
    "import re\n",
    "sentences = re.sub(r'[^\\w\\s]', '', sentences)\n",
    "item_words = set(sentences.split())\n",
    "len(item_words)"
   ],
   "metadata": {
    "collapsed": false,
    "pycharm": {
     "name": "#%%\n"
    }
   }
  },
  {
   "cell_type": "code",
   "execution_count": 22,
   "outputs": [
    {
     "data": {
      "text/plain": "['Illumination',\n '80x80cm',\n 'Precision',\n 'Bentley',\n 'BFF',\n 'Artery',\n 'wall',\n 'Tobbles',\n 'Muslin',\n 'quotPrehistoric']"
     },
     "execution_count": 22,
     "metadata": {},
     "output_type": "execute_result"
    }
   ],
   "source": [
    "item_words = list(item_words)\n",
    "item_words[:10]"
   ],
   "metadata": {
    "collapsed": false,
    "pycharm": {
     "name": "#%%\n"
    }
   }
  },
  {
   "cell_type": "code",
   "execution_count": 8,
   "outputs": [],
   "source": [
    "img_dir = 'raw-img'\n",
    "# load images\n",
    "import clip\n",
    "import torch"
   ],
   "metadata": {
    "collapsed": false,
    "pycharm": {
     "name": "#%%\n"
    }
   }
  },
  {
   "cell_type": "code",
   "execution_count": 27,
   "outputs": [],
   "source": [
    "# Load the model\n",
    "device = \"cuda:5\" if torch.cuda.is_available() else \"cpu\"\n",
    "model, preprocess = clip.load('ViT-B/32', device)"
   ],
   "metadata": {
    "collapsed": false,
    "pycharm": {
     "name": "#%%\n"
    }
   }
  },
  {
   "cell_type": "code",
   "execution_count": 28,
   "outputs": [],
   "source": [
    "from PIL import Image\n",
    "\n",
    "from os import listdir\n",
    "from os.path import isfile, join\n",
    "onlyfiles = [f for f in listdir(img_dir) if isfile(join(img_dir, f))]\n",
    "sorted_files = sorted(onlyfiles)\n"
   ],
   "metadata": {
    "collapsed": false,
    "pycharm": {
     "name": "#%%\n"
    }
   }
  },
  {
   "cell_type": "code",
   "execution_count": 29,
   "outputs": [
    {
     "name": "stdout",
     "output_type": "stream",
     "text": [
      "raw-img/0.jpg\n",
      "\n",
      "Top predictions:\n",
      "\n",
      "2545-      Stationary: 13.39%\n",
      "3090-       Organizer: 7.75%\n",
      "5943-         Journal: 4.35%\n",
      "5017-         Recipes: 3.44%\n",
      "3103-        Calendar: 2.90%\n",
      "# of images with text 0\n",
      "[]\n"
     ]
    }
   ],
   "source": [
    "text_inputs = torch.cat([clip.tokenize(c) for c in item_words]).to(device)\n",
    "\n",
    "#item_num = len(sentences)\n",
    "item_num = 1\n",
    "img_txt_ls = []\n",
    "item_no_imgs = []\n",
    "for i in range(item_num):\n",
    "    fl_name = join(img_dir, f'{i}.jpg')\n",
    "    if isfile(fl_name):\n",
    "        #print(fl_name)\n",
    "        image = Image.open(fl_name)\n",
    "        image_input = preprocess(image).unsqueeze(0).to(device)\n",
    "        with torch.no_grad():\n",
    "            image_features = model.encode_image(image_input)\n",
    "            text_features = model.encode_text(text_inputs)\n",
    "        # Pick the top 5 most similar labels for the image\n",
    "        image_features /= image_features.norm(dim=-1, keepdim=True)\n",
    "        text_features /= text_features.norm(dim=-1, keepdim=True)\n",
    "        similarity = (100.0 * image_features @ text_features.T).softmax(dim=-1)\n",
    "        del image_features\n",
    "        del text_features\n",
    "        values, indices = similarity[0].topk(5)\n",
    "        # Print the result\n",
    "        #print(\"\\nTop predictions:\\n\")\n",
    "        tmp_text = ''\n",
    "        for value, index in zip(values, indices):\n",
    "            #print(f\"{index}-{item_words[index]:>16s}: {100 * value.item():.2f}%\")\n",
    "            tmp_text += item_words[index]\n",
    "        img_txt_ls.append(tmp_text)\n",
    "    else:\n",
    "        item_no_imgs.append(i)\n",
    "        img_txt_ls.append('')\n",
    "\n",
    "print('# of images with text', len(img_txt_ls))\n",
    "print(item_no_imgs)\n"
   ],
   "metadata": {
    "collapsed": false,
    "pycharm": {
     "name": "#%%\n"
    }
   }
  },
  {
   "cell_type": "code",
   "execution_count": 31,
   "outputs": [
    {
     "data": {
      "text/plain": "'Calendar'"
     },
     "execution_count": 31,
     "metadata": {},
     "output_type": "execute_result"
    }
   ],
   "source": [
    "\n",
    "item_words[3103]\n"
   ],
   "metadata": {
    "collapsed": false,
    "pycharm": {
     "name": "#%%\n"
    }
   }
  }
 ],
 "metadata": {
  "kernelspec": {
   "display_name": "Python 3",
   "language": "python",
   "name": "python3"
  },
  "language_info": {
   "codemirror_mode": {
    "name": "ipython",
    "version": 2
   },
   "file_extension": ".py",
   "mimetype": "text/x-python",
   "name": "python",
   "nbconvert_exporter": "python",
   "pygments_lexer": "ipython2",
   "version": "2.7.6"
  }
 },
 "nbformat": 4,
 "nbformat_minor": 0
}